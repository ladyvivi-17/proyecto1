{
 "cells": [
  {
   "cell_type": "code",
   "execution_count": 1,
   "metadata": {
    "collapsed": false
   },
   "outputs": [],
   "source": [
    "#Algoritmo de deteccion de colores\n",
    "#Por Glar3\n",
    "#\n",
    "#\n",
    "#Detecta objetos verdes, elimina el ruido y busca su centro\n",
    " \n",
    "import cv2\n",
    "import numpy as np\n",
    " \n",
    "#Iniciamos la camara\n",
    "captura = cv2.VideoCapture(0)\n",
    " \n",
    "while(1):\n",
    "     \n",
    "    #Capturamos una imagen y la convertimos de RGB -> HSV\n",
    "    _, imagen = captura.read()\n",
    "    hsv = cv2.cvtColor(imagen, cv2.COLOR_BGR2HSV)\n",
    " \n",
    "    #Establecemos el rango de colores que vamos a detectar\n",
    "    #En este caso de verde oscuro a verde-azulado claro\n",
    "    verde_bajos = np.array([49,50,50], dtype=np.uint8)\n",
    "    verde_altos = np.array([80, 255, 255], dtype=np.uint8)\n",
    " \n",
    "    #Crear una mascara con solo los pixeles dentro del rango de verdes\n",
    "    mask = cv2.inRange(hsv, verde_bajos, verde_altos)\n",
    " \n",
    "    #Encontrar el area de los objetos que detecta la camara\n",
    "    moments = cv2.moments(mask)\n",
    "    area = moments['m00']\n",
    " \n",
    "    #Descomentar para ver el area por pantalla\n",
    "    #print area\n",
    "    if(area > 2000000):\n",
    "         \n",
    "        #Buscamos el centro x, y del objeto\n",
    "        x = int(moments['m10']/moments['m00'])\n",
    "        y = int(moments['m01']/moments['m00'])\n",
    "         \n",
    "        #Mostramos sus coordenadas por pantalla\n",
    "        print \"x = \", x\n",
    "        print \"y = \", y\n",
    " \n",
    "        #Dibujamos una marca en el centro del objeto\n",
    "        cv2.rectangle(imagen, (x-50, y-50), (x+50, y+50),(0,0,255), 2)\n",
    "     \n",
    "     \n",
    "    #Mostramos la imagen original con la marca del centro y\n",
    "    #la mascara\n",
    "    cv2.imshow('mask', mask)\n",
    "    cv2.imshow('Camara', imagen)\n",
    "    tecla = cv2.waitKey(5) & 0xFF\n",
    "    if tecla == 27:\n",
    "        break\n",
    " \n",
    "cv2.destroyAllWindows()"
   ]
  }
 ],
 "metadata": {
  "anaconda-cloud": {},
  "kernelspec": {
   "display_name": "Python [Root]",
   "language": "python",
   "name": "Python [Root]"
  },
  "language_info": {
   "codemirror_mode": {
    "name": "ipython",
    "version": 2
   },
   "file_extension": ".py",
   "mimetype": "text/x-python",
   "name": "python",
   "nbconvert_exporter": "python",
   "pygments_lexer": "ipython2",
   "version": "2.7.12"
  }
 },
 "nbformat": 4,
 "nbformat_minor": 0
}
