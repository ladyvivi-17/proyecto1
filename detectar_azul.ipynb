{
 "cells": [
  {
   "cell_type": "code",
   "execution_count": null,
   "metadata": {
    "collapsed": false
   },
   "outputs": [],
   "source": [
    "#Algoritmo de deteccion de colores\n",
    "#Por Glar3\n",
    "#\n",
    "#\n",
    "#Detecta objetos verdes, elimina el ruido y busca su centro\n",
    " \n",
    "import cv2\n",
    "import numpy as np\n",
    " \n",
    "#Iniciamos la camara\n",
    "captura = cv2.VideoCapture(0)\n",
    " \n",
    "while(1):\n",
    "     \n",
    "    #Capturamos una imagen y la convertimos de RGB -> HSV\n",
    "    _, imagen = captura.read()\n",
    "    hsv = cv2.cvtColor(imagen, cv2.COLOR_BGR2HSV)\n",
    " \n",
    "    #Establecemos el rango de colores que vamos a detectar\n",
    "    #En este caso de verde oscuro a verde-azulado claro\n",
    "    \n",
    "    azul_bajos = np.array([110,50,50], dtype=np.uint8)\n",
    "    azul_altos = np.array([130,255,255], dtype=np.uint8)\n",
    " \n",
    "    #Crear una mascara con solo los pixeles dentro del rango de verdes\n",
    "  \n",
    "    maskazul = cv2.inRange(hsv, azul_bajos, azul_altos)\n",
    "    #Encontrar el area de los objetos que detecta la camara\n",
    "   \n",
    "    momentsazul = cv2.moments(maskazul)\n",
    "    areaazul = momentsazul['m00']\n",
    "    #Descomentar para ver el area por pantalla\n",
    "    #print area\n",
    "    \n",
    "    if(areaazul > 2000000):\n",
    "    \n",
    "    \n",
    "        #Buscamos el centro x, y del objeto azul\n",
    "        xr= int(momentsazul['m10']/momentsazul['m00'])\n",
    "        yr = int(momentsazul['m01']/momentsazul['m00'])\n",
    "         \n",
    "  \n",
    "        #Dibujamos una marca en el centro del objeto\n",
    "        cv2.rectangle(imagen, (xr-50, yr-50), (xr+50, yr+50),(0,230,255), 2)\n",
    "    \n",
    "     \n",
    "     \n",
    "    #Mostramos la imagen original con la marca del centro y\n",
    "    #la mascara\n",
    "    cv2.imshow('mask', maskazul)\n",
    "    cv2.imshow('Camara', imagen)\n",
    "    tecla = cv2.waitKey(5) & 0xFF\n",
    "    if tecla == 27:\n",
    "        break\n",
    " \n",
    "cv2.destroyAllWindows()"
   ]
  }
 ],
 "metadata": {
  "anaconda-cloud": {},
  "kernelspec": {
   "display_name": "Python [Root]",
   "language": "python",
   "name": "Python [Root]"
  },
  "language_info": {
   "codemirror_mode": {
    "name": "ipython",
    "version": 2
   },
   "file_extension": ".py",
   "mimetype": "text/x-python",
   "name": "python",
   "nbconvert_exporter": "python",
   "pygments_lexer": "ipython2",
   "version": "2.7.12"
  }
 },
 "nbformat": 4,
 "nbformat_minor": 0
}
